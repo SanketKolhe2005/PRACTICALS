{
  "nbformat": 4,
  "nbformat_minor": 0,
  "metadata": {
    "colab": {
      "provenance": []
    },
    "kernelspec": {
      "name": "python3",
      "display_name": "Python 3"
    },
    "language_info": {
      "name": "python"
    }
  },
  "cells": [
    {
      "cell_type": "code",
      "execution_count": null,
      "metadata": {
        "colab": {
          "base_uri": "https://localhost:8080/"
        },
        "id": "0ABAyl70n-Sq",
        "outputId": "f63c6d76-234e-4a7c-968b-653aa4fd986c"
      },
      "outputs": [
        {
          "output_type": "stream",
          "name": "stderr",
          "text": [
            "/usr/local/lib/python3.10/dist-packages/sklearn/cluster/_kmeans.py:870: FutureWarning: The default value of `n_init` will change from 10 to 'auto' in 1.4. Set the value of `n_init` explicitly to suppress the warning\n",
            "  warnings.warn(\n"
          ]
        },
        {
          "output_type": "stream",
          "name": "stdout",
          "text": [
            "Cluster 1:\n",
            "Latitude: 44.7444, Longitude: 44.2031\n",
            "Latitude: 37.1667, Longitude: 15.1833\n",
            "Latitude: 53.0167, Longitude: 20.8833\n",
            "Latitude: 51.0761, Longitude: 4.2803\n",
            "Latitude: 44.05, Longitude: 43.0667\n",
            "Latitude: 52.3833, Longitude: 6.2667\n",
            "Latitude: 50.3892, Longitude: 3.4858\n",
            "Latitude: 37.3833, Longitude: 14.7\n",
            "Latitude: 52.0667, Longitude: 21.0167\n",
            "Latitude: 43.9333, Longitude: 23.0833\n",
            "Latitude: 56.45, Longitude: 60.1833\n",
            "\n",
            "Cluster 2:\n",
            "Latitude: -5.29, Longitude: -44.49\n",
            "Latitude: -11.2958, Longitude: -41.9869\n",
            "Latitude: 16.1005, Longitude: -88.8074\n",
            "Latitude: 26.8941, Longitude: -82.0513\n",
            "Latitude: 33.5722, Longitude: -112.0892\n",
            "Latitude: -22.5128, Longitude: -44.0008\n",
            "Latitude: 9.7919, Longitude: -74.7872\n",
            "\n",
            "Cluster 3:\n",
            "Latitude: 21.95, Longitude: 108.6167\n",
            "\n",
            "Cluster Centers:\n",
            "Latitude: 47.514518181818175, Longitude: 23.304772727272727\n",
            "Latitude: 6.751442857142859, Longitude: -69.74468571428571\n",
            "Latitude: 21.95, Longitude: 108.6167\n"
          ]
        }
      ],
      "source": [
        "#K-means\n",
        "import numpy as np\n",
        "from sklearn.cluster import KMeans\n",
        "\n",
        "data = np.array([\n",
        "    [44.7444, 44.2031],\n",
        "    [-5.29, -44.49],\n",
        "    [-11.2958, -41.9869],\n",
        "    [37.1667, 15.1833],\n",
        "    [53.0167, 20.8833],\n",
        "    [16.1005, -88.8074],\n",
        "    [26.8941, -82.0513],\n",
        "    [51.0761, 4.2803],\n",
        "    [44.05, 43.0667],\n",
        "    [21.95, 108.6167],\n",
        "    [52.3833, 6.2667],\n",
        "    [50.3892, 3.4858],\n",
        "    [37.3833, 14.7],\n",
        "    [33.5722, -112.0892],\n",
        "    [52.0667, 21.0167],\n",
        "    [-22.5128, -44.0008],\n",
        "    [9.7919, -74.7872],\n",
        "    [43.9333, 23.0833],\n",
        "    [56.45, 60.1833]\n",
        "])\n",
        "\n",
        "k = 3\n",
        "\n",
        "\n",
        "kmeans = KMeans(n_clusters=k, random_state=0).fit(data)\n",
        "\n",
        "\n",
        "labels = kmeans.labels_\n",
        "centers = kmeans.cluster_centers_\n",
        "\n",
        "\n",
        "for i in range(k):\n",
        "    cluster_points = data[labels == i]\n",
        "    print(f\"Cluster {i+1}:\")\n",
        "    for point in cluster_points:\n",
        "        print(f\"Latitude: {point[0]}, Longitude: {point[1]}\")\n",
        "    print()\n",
        "\n",
        "\n",
        "print(\"Cluster Centers:\")\n",
        "for center in centers:\n",
        "    print(f\"Latitude: {center[0]}, Longitude: {center[1]}\")\n"
      ]
    },
    {
      "cell_type": "code",
      "source": [
        "#KNN\n",
        "import pandas as pd\n",
        "from sklearn.neighbors import KNeighborsClassifier\n",
        "from sklearn.model_selection import train_test_split\n",
        "from sklearn.preprocessing import LabelEncoder\n",
        "from sklearn.metrics import accuracy_score\n",
        "\n",
        "data = pd.read_csv('/content/AQI and Lat Long of Countries2.csv')\n",
        "\n",
        "\n",
        "X = data[['AQI Value', 'CO AQI Value', 'Ozone AQI Value', 'NO2 AQI Value', 'PM2.5 AQI Value']]\n",
        "y = data['AQI Category']\n",
        "\n",
        "\n",
        "le = LabelEncoder()\n",
        "y = le.fit_transform(y)\n",
        "\n",
        "X_train, X_test, y_train, y_test = train_test_split(X, y, test_size=0.2, random_state=42)\n",
        "\n",
        "k = 3\n",
        "knn = KNeighborsClassifier(n_neighbors=k)\n",
        "\n",
        "knn.fit(X_train, y_train)\n",
        "\n",
        "\n",
        "y_pred = knn.predict(X_test)\n",
        "\n",
        "y_pred = le.inverse_transform(y_pred)\n",
        "\n",
        "accuracy = accuracy_score(le.inverse_transform(y_test), y_pred)\n",
        "print(f\"Accuracy: {accuracy}\")\n",
        "\n",
        "\n",
        "example_data = [[60, 2, 35, 1, 40]]\n",
        "predicted_category = le.inverse_transform(knn.predict(example_data))\n",
        "print(f\"Predicted AQI Category: {predicted_category}\")\n"
      ],
      "metadata": {
        "colab": {
          "base_uri": "https://localhost:8080/"
        },
        "id": "SpZsJwTLtm8E",
        "outputId": "4d2fa564-0f74-48b0-f9ac-5b0671cc5c28"
      },
      "execution_count": null,
      "outputs": [
        {
          "output_type": "stream",
          "name": "stdout",
          "text": [
            "Accuracy: 0.9850374064837906\n",
            "Predicted AQI Category: ['Good']\n"
          ]
        },
        {
          "output_type": "stream",
          "name": "stderr",
          "text": [
            "/usr/local/lib/python3.10/dist-packages/sklearn/base.py:439: UserWarning: X does not have valid feature names, but KNeighborsClassifier was fitted with feature names\n",
            "  warnings.warn(\n"
          ]
        }
      ]
    },
    {
      "cell_type": "code",
      "source": [
        "#Linear Regression\n",
        "import pandas as pd\n",
        "from sklearn.linear_model import LinearRegression\n",
        "from sklearn.model_selection import train_test_split\n",
        "from sklearn.metrics import mean_squared_error, r2_score\n",
        "\n",
        "\n",
        "data = pd.read_csv('/content/AQI and Lat Long of Countries2.csv')\n",
        "\n",
        "\n",
        "X = data[['lat', 'lng']]\n",
        "y = data['AQI Value']\n",
        "\n",
        "\n",
        "X_train, X_test, y_train, y_test = train_test_split(X, y, test_size=0.2, random_state=42)\n",
        "\n",
        "\n",
        "model = LinearRegression()\n",
        "\n",
        "model.fit(X_train, y_train)\n",
        "\n",
        "\n",
        "y_pred = model.predict(X_test)\n",
        "\n",
        "\n",
        "rmse = mean_squared_error(y_test, y_pred, squared=False)\n",
        "print(f\"RMSE: {rmse}\")\n",
        "\n",
        "\n",
        "r2 = r2_score(y_test, y_pred)\n",
        "print(f\"R-squared: {r2}\")\n",
        "\n",
        "\n",
        "example_data = [[44.7444, 44.2031]]\n",
        "predicted_aqi = model.predict(example_data)\n",
        "print(f\"Predicted AQI Value: {predicted_aqi}\")\n"
      ],
      "metadata": {
        "colab": {
          "base_uri": "https://localhost:8080/"
        },
        "id": "1EDJLjiSuRs9",
        "outputId": "0b72bb43-7d13-4285-e6e5-f120f525dcf6"
      },
      "execution_count": null,
      "outputs": [
        {
          "output_type": "stream",
          "name": "stdout",
          "text": [
            "RMSE: 45.3923032194421\n",
            "R-squared: 0.02458718467384724\n",
            "Predicted AQI Value: [65.34166434]\n"
          ]
        },
        {
          "output_type": "stream",
          "name": "stderr",
          "text": [
            "/usr/local/lib/python3.10/dist-packages/sklearn/base.py:439: UserWarning: X does not have valid feature names, but LinearRegression was fitted with feature names\n",
            "  warnings.warn(\n"
          ]
        }
      ]
    }
  ]
}