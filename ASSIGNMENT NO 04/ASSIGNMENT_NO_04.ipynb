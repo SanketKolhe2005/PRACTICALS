{
  "cells": [
    {
      "cell_type": "code",
      "execution_count": null,
      "metadata": {
        "colab": {
          "base_uri": "https://localhost:8080/"
        },
        "id": "8tlNujW94MKp",
        "outputId": "d9ae122d-a7ff-47ff-c263-df4af717f87b"
      },
      "outputs": [
        {
          "name": "stdout",
          "output_type": "stream",
          "text": [
            "                                                Country              City  \\\n",
            "0                                    Russian Federation        Praskoveya   \n",
            "1                                                Brazil  Presidente Dutra   \n",
            "2                                                Brazil  Presidente Dutra   \n",
            "3                                                 Italy   Priolo Gargallo   \n",
            "4                                                Poland         Przasnysz   \n",
            "...                                                 ...               ...   \n",
            "3994                                                NaN              Bata   \n",
            "3995  United Kingdom of Great Britain and Northern I...          Bearsden   \n",
            "3996  United Kingdom of Great Britain and Northern I...          Bedworth   \n",
            "3997                                             Serbia        Bela Crkva   \n",
            "3998                           United States of America              Bell   \n",
            "\n",
            "      AQI Value                    AQI Category  CO AQI Value CO AQI Category  \\\n",
            "0            51                        Moderate             1            Good   \n",
            "1            41                            Good             1            Good   \n",
            "2            41                            Good             1            Good   \n",
            "3            66                        Moderate             1            Good   \n",
            "4            34                            Good             1            Good   \n",
            "...         ...                             ...           ...             ...   \n",
            "3994         60                        Moderate             1            Good   \n",
            "3995         61                        Moderate             0            Good   \n",
            "3996         29                            Good             0            Good   \n",
            "3997         47                            Good             1            Good   \n",
            "3998        119  Unhealthy for Sensitive Groups             4            Good   \n",
            "\n",
            "      Ozone AQI Value Ozone AQI Category  NO2 AQI Value NO2 AQI Category  \\\n",
            "0                  36               Good              0             Good   \n",
            "1                   5               Good              1             Good   \n",
            "2                   5               Good              1             Good   \n",
            "3                  39               Good              2             Good   \n",
            "4                  34               Good              0             Good   \n",
            "...               ...                ...            ...              ...   \n",
            "3994               26               Good              0             Good   \n",
            "3995               31               Good              0             Good   \n",
            "3996               29               Good              2             Good   \n",
            "3997               39               Good              1             Good   \n",
            "3998                6               Good             36             Good   \n",
            "\n",
            "      PM2.5 AQI Value              PM2.5 AQI Category      lat       lng  \n",
            "0                  51                        Moderate  44.7444   44.2031  \n",
            "1                  41                            Good  -5.2900  -44.4900  \n",
            "2                  41                            Good -11.2958  -41.9869  \n",
            "3                  66                        Moderate  37.1667   15.1833  \n",
            "4                  20                            Good  53.0167   20.8833  \n",
            "...               ...                             ...      ...       ...  \n",
            "3994               60                        Moderate   1.8650    9.7700  \n",
            "3995               61                        Moderate  55.9192   -4.3332  \n",
            "3996               22                            Good  52.4750   -1.4770  \n",
            "3997               47                            Good  44.8975   21.4169  \n",
            "3998              119  Unhealthy for Sensitive Groups  33.9801 -118.1798  \n",
            "\n",
            "[3999 rows x 14 columns]\n"
          ]
        }
      ],
      "source": [
        "import pandas as pd\n",
        "df = pd.read_csv('/content/AQi and lat long countries 1.csv')\n",
        "print(df)\n",
        "\n"
      ]
    },
    {
      "cell_type": "code",
      "execution_count": null,
      "metadata": {
        "colab": {
          "base_uri": "https://localhost:8080/"
        },
        "id": "qUKIY0g45ATZ",
        "outputId": "e63a13e6-b6c2-406d-ee85-37d7edc753fa"
      },
      "outputs": [
        {
          "name": "stdout",
          "output_type": "stream",
          "text": [
            "Mean: 63.19904976244061\n",
            "Median: 52.0\n",
            "Maximum: 500\n",
            "Minimum: 10\n"
          ]
        }
      ],
      "source": [
        "# Summary Statistics\n",
        "# Calculate mean\n",
        "mean_value = df['AQI Value'].mean()\n",
        "print(\"Mean:\", mean_value)\n",
        "\n",
        "# Calculate median\n",
        "median_value = df['AQI Value'].median()\n",
        "print(\"Median:\", median_value)\n",
        "\n",
        "# Calculate maximum\n",
        "max_value = df['AQI Value'].max()\n",
        "print(\"Maximum:\", max_value)\n",
        "\n",
        "# Calculate minimum\n",
        "min_value = df['AQI Value'].min()\n",
        "print(\"Minimum:\", min_value)\n"
      ]
    },
    {
      "cell_type": "code",
      "execution_count": null,
      "metadata": {
        "colab": {
          "base_uri": "https://localhost:8080/"
        },
        "id": "ES1FbaaV5lzw",
        "outputId": "5a716c10-ff60-41fc-ed60-c36049c69e52"
      },
      "outputs": [
        {
          "name": "stdout",
          "output_type": "stream",
          "text": [
            "sum      252733.00000\n",
            "mean         63.19905\n",
            "max         500.00000\n",
            "min          10.00000\n",
            "count      3999.00000\n",
            "Name: AQI Value, dtype: float64\n"
          ]
        }
      ],
      "source": [
        "# Perform aggregations\n",
        "aggregated_data = df['AQI Value'].agg(['sum', 'mean', 'max', 'min', 'count'])\n",
        "print(aggregated_data)\n"
      ]
    },
    {
      "cell_type": "code",
      "execution_count": null,
      "metadata": {
        "colab": {
          "base_uri": "https://localhost:8080/"
        },
        "id": "TAIFzwOg6i24",
        "outputId": "784899bb-06c8-4c2f-a532-26e8b5678b30"
      },
      "outputs": [
        {
          "name": "stdout",
          "output_type": "stream",
          "text": [
            "                                    sum        mean  max  min  count\n",
            "Country                                                             \n",
            "Albania                             355   71.000000   91   52      5\n",
            "Algeria                             260  130.000000  154  106      2\n",
            "Angola                              374   62.333333  154   20      6\n",
            "Argentina                           681   29.608696   90   13     23\n",
            "Armenia                             278   46.333333   92   31      6\n",
            "...                                 ...         ...  ...  ...    ...\n",
            "Uzbekistan                          547  136.750000  168  108      4\n",
            "Venezuela (Bolivarian Republic of)  990   61.875000  118   28     16\n",
            "Viet Nam                            240  120.000000  181   59      2\n",
            "Zambia                              361   60.166667  125   30      6\n",
            "Zimbabwe                            158   52.666667   62   44      3\n",
            "\n",
            "[145 rows x 5 columns]\n"
          ]
        }
      ],
      "source": [
        "# Group by \"Country\" column and calculate aggregations on \"AQI Value\"\n",
        "grouped_data = df.groupby('Country')['AQI Value'].agg(['sum', 'mean', 'max', 'min', 'count'])\n",
        "print(grouped_data)\n"
      ]
    },
    {
      "cell_type": "code",
      "execution_count": null,
      "metadata": {
        "colab": {
          "base_uri": "https://localhost:8080/"
        },
        "id": "20nZyM8Y6yUL",
        "outputId": "0af0a002-ee1a-42cf-c2ae-87941aebfcee"
      },
      "outputs": [
        {
          "name": "stdout",
          "output_type": "stream",
          "text": [
            "Correlation:\n",
            "0.4262330129283987\n",
            "\n",
            "Covariance:\n",
            "75.44383300677598\n"
          ]
        }
      ],
      "source": [
        "# Calculate correlation\n",
        "correlation = df['AQI Value'].corr(df['CO AQI Value'])\n",
        "print(\"Correlation:\")\n",
        "print(correlation)\n",
        "\n",
        "# Calculate covariance\n",
        "covariance = df['AQI Value'].cov(df['CO AQI Value'])\n",
        "print(\"\\nCovariance:\")\n",
        "print(covariance)\n"
      ]
    },
    {
      "cell_type": "code",
      "execution_count": null,
      "metadata": {
        "colab": {
          "base_uri": "https://localhost:8080/"
        },
        "id": "K-dIYSrQ614h",
        "outputId": "fd94a3bc-6ddf-4db8-c1e6-c6d034fa1078"
      },
      "outputs": [
        {
          "name": "stdout",
          "output_type": "stream",
          "text": [
            "25th Quantile:\n",
            "38.0\n",
            "\n",
            "50th Quantile (Median):\n",
            "52.0\n",
            "\n",
            "75th Quantile:\n",
            "69.0\n"
          ]
        }
      ],
      "source": [
        "# Calculate quantiles\n",
        "quantile_25 = df['AQI Value'].quantile(0.25)\n",
        "quantile_50 = df['AQI Value'].quantile(0.50)\n",
        "quantile_75 = df['AQI Value'].quantile(0.75)\n",
        "\n",
        "print(\"25th Quantile:\")\n",
        "print(quantile_25)\n",
        "print(\"\\n50th Quantile (Median):\")\n",
        "print(quantile_50)\n",
        "print(\"\\n75th Quantile:\")\n",
        "print(quantile_75)\n"
      ]
    },
    {
      "cell_type": "code",
      "execution_count": null,
      "metadata": {
        "colab": {
          "background_save": true
        },
        "id": "ez5-xLIR83hh",
        "outputId": "8e06ebdb-9576-4e4d-e27a-e5971e3a08da"
      },
      "outputs": [
        {
          "name": "stdout",
          "output_type": "stream",
          "text": [
            "count    3922.000000\n",
            "mean       63.349822\n",
            "std        46.385360\n",
            "min        10.000000\n",
            "25%        38.000000\n",
            "50%        52.000000\n",
            "75%        69.000000\n",
            "max       500.000000\n",
            "Name: AQI Value, dtype: float64\n"
          ]
        }
      ],
      "source": [
        "print(df['AQI Value'].describe())"
      ]
    }
  ],
  "metadata": {
    "colab": {
      "provenance": []
    },
    "kernelspec": {
      "display_name": "Python 3",
      "name": "python3"
    },
    "language_info": {
      "name": "python"
    }
  },
  "nbformat": 4,
  "nbformat_minor": 0
}